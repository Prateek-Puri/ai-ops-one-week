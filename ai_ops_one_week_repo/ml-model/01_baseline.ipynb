{
 "cells": [
  {
   "cell_type": "markdown",
   "id": "8d18328a",
   "metadata": {},
   "source": [
    "# 01 — Baseline Model (Demand or Churn)\n",
    "Use a simple baseline and one ML model, report business-facing metrics."
   ]
  },
  {
   "cell_type": "code",
   "execution_count": null,
   "id": "60e3daf1",
   "metadata": {},
   "outputs": [],
   "source": [
    "\n",
    "import pandas as pd, numpy as np\n",
    "from pathlib import Path\n",
    "from sklearn.model_selection import train_test_split\n",
    "from sklearn.metrics import mean_absolute_error, mean_squared_error\n",
    "from sklearn.ensemble import GradientBoostingRegressor\n",
    "\n",
    "data_path = Path(__file__).resolve().parents[1] / \"data\" / \"sample_transactions.csv\"\n",
    "df = pd.read_csv(data_path, parse_dates=[\"date\"])\n",
    "\n",
    "# Aggregate to weekly demand per product-region\n",
    "df['week'] = df['date'].dt.to_period('W').apply(lambda r: r.start_time)\n",
    "agg = df.groupby(['week','product','region'], as_index=False).agg(qty=('qty','sum'),\n",
    "                                                                  price=('price','mean'),\n",
    "                                                                  promo=('promo','mean'))\n",
    "\n",
    "# Simple features\n",
    "agg['dow'] = agg['week'].dt.dayofweek\n",
    "agg['month'] = agg['week'].dt.month\n",
    "X = agg[['price','promo','dow','month']]\n",
    "y = agg['qty']\n",
    "\n",
    "X_train, X_test, y_train, y_test = train_test_split(X, y, test_size=0.2, shuffle=True, random_state=42)\n",
    "\n",
    "# Baseline: predict train mean\n",
    "baseline_pred = np.full_like(y_test, y_train.mean(), dtype=float)\n",
    "\n",
    "# Model\n",
    "model = GradientBoostingRegressor(random_state=42)\n",
    "model.fit(X_train, y_train)\n",
    "pred = model.predict(X_test)\n",
    "\n",
    "mae_base = mean_absolute_error(y_test, baseline_pred)\n",
    "mae_model = mean_absolute_error(y_test, pred)\n",
    "rmse_base = mean_squared_error(y_test, baseline_pred, squared=False)\n",
    "rmse_model = mean_squared_error(y_test, pred, squared=False)\n",
    "\n",
    "print({\"MAE_baseline\": mae_base, \"MAE_model\": mae_model,\n",
    "       \"RMSE_baseline\": rmse_base, \"RMSE_model\": rmse_model})\n",
    "\n",
    "# Save quick artifacts\n",
    "Path(\"figures\").mkdir(exist_ok=True)\n",
    "pd.DataFrame({\"y\":y_test.values, \"yhat\":pred}).to_csv(\"figures/test_preds.csv\", index=False)\n",
    "print(\"Artifacts saved to figures/\")\n"
   ]
  }
 ],
 "metadata": {},
 "nbformat": 4,
 "nbformat_minor": 5
}