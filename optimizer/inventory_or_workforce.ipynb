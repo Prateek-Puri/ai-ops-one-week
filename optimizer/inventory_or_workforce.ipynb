{
 "cells": [
  {
   "cell_type": "markdown",
   "id": "0bbdcfd9",
   "metadata": {},
   "source": [
    "# Inventory or Workforce Optimization\n",
    "Choose one scenario and run sensitivity ±10 percent."
   ]
  },
  {
   "cell_type": "code",
   "execution_count": 1,
   "id": "91a8c51b",
   "metadata": {},
   "outputs": [
    {
     "name": "stdout",
     "output_type": "stream",
     "text": [
      "Status: Optimal\n",
      "   day  workers  overtime_hours  demand  base_capacity  total_capacity\n",
      "0    0      6.0             2.0      50           48.0            50.0\n",
      "1    1      7.0             2.0      58           56.0            58.0\n",
      "2    2      7.0             3.0      59           56.0            59.0\n",
      "3    3      6.0             3.0      51           48.0            51.0\n",
      "4    4      5.0             2.0      42           40.0            42.0\n",
      "5    5      5.0             0.0      40           40.0            40.0\n",
      "6    6      6.0             0.0      47           48.0            48.0\n",
      "Objective at demand scale 0.9: 325.00\n",
      "Objective at demand scale 1.0: 354.00\n",
      "Objective at demand scale 1.1: 386.50\n"
     ]
    }
   ],
   "source": [
    "\n",
    "from pathlib import Path\n",
    "import pandas as pd\n",
    "import numpy as np\n",
    "from pulp import LpProblem, LpMinimize, LpVariable, LpStatus, lpSum, LpInteger, LpContinuous, LpBinary, PULP_CBC_CMD\n",
    "\n",
    "# Example: Workforce planning over 7 days\n",
    "days = list(range(7))\n",
    "demand = {d:int(50 + 10*np.sin(d)) for d in days}  # required worker-hours per day\n",
    "max_hours_per_worker = 8\n",
    "overtime_cost = 1.5\n",
    "base_cost = 1.0\n",
    "\n",
    "prob = LpProblem(\"WorkforcePlanning\", LpMinimize)\n",
    "\n",
    "# Decision variables: number of workers scheduled each day (integer), overtime hours (continuous)\n",
    "workers = {d: LpVariable(f\"workers_{d}\", lowBound=0, cat=LpInteger) for d in days}\n",
    "ot_hours = {d: LpVariable(f\"ot_{d}\", lowBound=0, cat=LpContinuous) for d in days}\n",
    "\n",
    "# Objective: minimize cost\n",
    "prob += lpSum([base_cost * workers[d] * max_hours_per_worker + overtime_cost * ot_hours[d] for d in days])\n",
    "\n",
    "# Constraints: cover demand\n",
    "for d in days:\n",
    "    prob += workers[d]*max_hours_per_worker + ot_hours[d] >= demand[d]\n",
    "\n",
    "# Solve\n",
    "prob.solve(PULP_CBC_CMD(msg=False))\n",
    "status = LpStatus[prob.status]\n",
    "print(\"Status:\", status)\n",
    "\n",
    "sol = pd.DataFrame({\n",
    "    \"day\": days,\n",
    "    \"workers\": [workers[d].value() for d in days],\n",
    "    \"overtime_hours\": [ot_hours[d].value() for d in days],\n",
    "    \"demand\": [demand[d] for d in days]\n",
    "})\n",
    "sol[\"base_capacity\"] = sol[\"workers\"] * max_hours_per_worker\n",
    "sol[\"total_capacity\"] = sol[\"base_capacity\"] + sol[\"overtime_hours\"]\n",
    "print(sol)\n",
    "\n",
    "# Sensitivity: vary demand ±10 percent and record objective\n",
    "def run_with_scale(scale):\n",
    "    demand2 = {d:int(demand[d]*scale) for d in days}\n",
    "    prob2 = LpProblem(\"WF_Sensitivity\", LpMinimize)\n",
    "    workers2 = {d: LpVariable(f\"w_{d}\", lowBound=0, cat=LpInteger) for d in days}\n",
    "    ot2 = {d: LpVariable(f\"ot_{d}\", lowBound=0, cat=LpContinuous) for d in days}\n",
    "    prob2 += lpSum([base_cost * workers2[d]*max_hours_per_worker + overtime_cost*ot2[d] for d in days])\n",
    "    for d in days:\n",
    "        prob2 += workers2[d]*max_hours_per_worker + ot2[d] >= demand2[d]\n",
    "    prob2.solve(PULP_CBC_CMD(msg=False))\n",
    "    obj = prob2.objective.value()\n",
    "    return obj\n",
    "\n",
    "for scale in [0.9, 1.0, 1.1]:\n",
    "    obj = run_with_scale(scale)\n",
    "    print(f\"Objective at demand scale {scale}: {obj:.2f}\")\n"
   ]
  },
  {
   "cell_type": "code",
   "execution_count": 2,
   "id": "5e118b54",
   "metadata": {},
   "outputs": [],
   "source": [
    "# Cell 0 - imports and seed\n",
    "\n",
    "from pathlib import Path\n",
    "import numpy as np, pandas as pd, matplotlib.pyplot as plt\n",
    "from pulp import (\n",
    "    LpProblem, LpMinimize, LpVariable, LpInteger, LpContinuous,\n",
    "    LpStatus, lpSum, PULP_CBC_CMD\n",
    ")\n",
    "np.random.seed(42)\n",
    "figdir = Path(\"figures\"); figdir.mkdir(exist_ok=True)\n"
   ]
  },
  {
   "cell_type": "code",
   "execution_count": 3,
   "id": "40633f8c",
   "metadata": {},
   "outputs": [
    {
     "name": "stdout",
     "output_type": "stream",
     "text": [
      "Status: Optimal\n"
     ]
    }
   ],
   "source": [
    "# Cell 1 - seven day demand and variables \n",
    "# Synthetic weekly demand - you can tweak\n",
    "days = list(range(7))\n",
    "demand = {d: int(50 + 12*np.sin(d) + np.random.normal(0, 2)) for d in days}\n",
    "\n",
    "max_hours_per_worker = 8\n",
    "base_cost = 1.0       # cost per base hour\n",
    "overtime_cost = 1.6   # cost per OT hour\n",
    "\n",
    "# Decision variables\n",
    "prob = LpProblem(\"WorkforcePlanning\", LpMinimize)\n",
    "workers = {d: LpVariable(f\"workers_{d}\", lowBound=0, cat=LpInteger) for d in days}\n",
    "ot = {d: LpVariable(f\"ot_{d}\", lowBound=0, cat=LpContinuous) for d in days}\n",
    "\n",
    "# Objective\n",
    "prob += lpSum([base_cost*workers[d]*max_hours_per_worker + overtime_cost*ot[d] for d in days])\n",
    "\n",
    "# Capacity constraints\n",
    "for d in days:\n",
    "    prob += workers[d]*max_hours_per_worker + ot[d] >= demand[d]\n",
    "\n",
    "status = prob.solve(PULP_CBC_CMD(msg=False))\n",
    "print(\"Status:\", LpStatus[status])\n"
   ]
  },
  {
   "cell_type": "code",
   "execution_count": 4,
   "id": "33f2b460",
   "metadata": {},
   "outputs": [
    {
     "data": {
      "text/html": [
       "<div>\n",
       "<style scoped>\n",
       "    .dataframe tbody tr th:only-of-type {\n",
       "        vertical-align: middle;\n",
       "    }\n",
       "\n",
       "    .dataframe tbody tr th {\n",
       "        vertical-align: top;\n",
       "    }\n",
       "\n",
       "    .dataframe thead th {\n",
       "        text-align: right;\n",
       "    }\n",
       "</style>\n",
       "<table border=\"1\" class=\"dataframe\">\n",
       "  <thead>\n",
       "    <tr style=\"text-align: right;\">\n",
       "      <th></th>\n",
       "      <th>day</th>\n",
       "      <th>demand_hours</th>\n",
       "      <th>workers</th>\n",
       "      <th>ot_hours</th>\n",
       "      <th>base_capacity</th>\n",
       "      <th>total_capacity</th>\n",
       "    </tr>\n",
       "  </thead>\n",
       "  <tbody>\n",
       "    <tr>\n",
       "      <th>0</th>\n",
       "      <td>0</td>\n",
       "      <td>50</td>\n",
       "      <td>6.0</td>\n",
       "      <td>2.0</td>\n",
       "      <td>48.0</td>\n",
       "      <td>50.0</td>\n",
       "    </tr>\n",
       "    <tr>\n",
       "      <th>1</th>\n",
       "      <td>1</td>\n",
       "      <td>59</td>\n",
       "      <td>7.0</td>\n",
       "      <td>3.0</td>\n",
       "      <td>56.0</td>\n",
       "      <td>59.0</td>\n",
       "    </tr>\n",
       "    <tr>\n",
       "      <th>2</th>\n",
       "      <td>2</td>\n",
       "      <td>62</td>\n",
       "      <td>8.0</td>\n",
       "      <td>0.0</td>\n",
       "      <td>64.0</td>\n",
       "      <td>64.0</td>\n",
       "    </tr>\n",
       "    <tr>\n",
       "      <th>3</th>\n",
       "      <td>3</td>\n",
       "      <td>54</td>\n",
       "      <td>7.0</td>\n",
       "      <td>0.0</td>\n",
       "      <td>56.0</td>\n",
       "      <td>56.0</td>\n",
       "    </tr>\n",
       "    <tr>\n",
       "      <th>4</th>\n",
       "      <td>4</td>\n",
       "      <td>40</td>\n",
       "      <td>5.0</td>\n",
       "      <td>0.0</td>\n",
       "      <td>40.0</td>\n",
       "      <td>40.0</td>\n",
       "    </tr>\n",
       "    <tr>\n",
       "      <th>5</th>\n",
       "      <td>5</td>\n",
       "      <td>38</td>\n",
       "      <td>5.0</td>\n",
       "      <td>0.0</td>\n",
       "      <td>40.0</td>\n",
       "      <td>40.0</td>\n",
       "    </tr>\n",
       "    <tr>\n",
       "      <th>6</th>\n",
       "      <td>6</td>\n",
       "      <td>49</td>\n",
       "      <td>6.0</td>\n",
       "      <td>1.0</td>\n",
       "      <td>48.0</td>\n",
       "      <td>49.0</td>\n",
       "    </tr>\n",
       "  </tbody>\n",
       "</table>\n",
       "</div>"
      ],
      "text/plain": [
       "   day  demand_hours  workers  ot_hours  base_capacity  total_capacity\n",
       "0    0            50      6.0       2.0           48.0            50.0\n",
       "1    1            59      7.0       3.0           56.0            59.0\n",
       "2    2            62      8.0       0.0           64.0            64.0\n",
       "3    3            54      7.0       0.0           56.0            56.0\n",
       "4    4            40      5.0       0.0           40.0            40.0\n",
       "5    5            38      5.0       0.0           40.0            40.0\n",
       "6    6            49      6.0       1.0           48.0            49.0"
      ]
     },
     "metadata": {},
     "output_type": "display_data"
    },
    {
     "name": "stdout",
     "output_type": "stream",
     "text": [
      "Optimal cost at 1.0x demand: 361.6\n"
     ]
    }
   ],
   "source": [
    "# Cell 2 - Solution Table \n",
    "sol = pd.DataFrame({\n",
    "    \"day\": days,\n",
    "    \"demand_hours\": [demand[d] for d in days],\n",
    "    \"workers\": [workers[d].value() for d in days],\n",
    "    \"ot_hours\": [ot[d].value() for d in days],\n",
    "})\n",
    "sol[\"base_capacity\"] = sol[\"workers\"] * max_hours_per_worker\n",
    "sol[\"total_capacity\"] = sol[\"base_capacity\"] + sol[\"ot_hours\"]\n",
    "total_cost = (base_cost * sol[\"base_capacity\"]).sum() + (overtime_cost * sol[\"ot_hours\"]).sum()\n",
    "display(sol)\n",
    "print(f\"Optimal cost at 1.0x demand: {total_cost:.1f}\")\n"
   ]
  },
  {
   "cell_type": "code",
   "execution_count": 5,
   "id": "c23dadef",
   "metadata": {},
   "outputs": [
    {
     "name": "stdout",
     "output_type": "stream",
     "text": [
      "Saved chart: figures/day4_sensitivity.png\n",
      "{'scales': [0.9, 1.0, 1.1, 1.2], 'costs': [328.0, 361.6, 395.2, 428.8]}\n"
     ]
    },
    {
     "data": {
      "image/png": "[encoded data removed]",
      "text/plain": [
       "<Figure size 640x480 with 1 Axes>"
      ]
     },
     "metadata": {},
     "output_type": "display_data"
    }
   ],
   "source": [
    "# Cell 3 - sensitivity function and chart\n",
    "def solve_with_scale(scale: float) -> float:\n",
    "    demand2 = {d: int(demand[d]*scale) for d in days}\n",
    "    p = LpProblem(\"WF_sens\", LpMinimize)\n",
    "    w = {d: LpVariable(f\"w_{d}\", lowBound=0, cat=LpInteger) for d in days}\n",
    "    o = {d: LpVariable(f\"o_{d}\", lowBound=0, cat=LpContinuous) for d in days}\n",
    "    p += lpSum([base_cost*w[d]*max_hours_per_worker + overtime_cost*o[d] for d in days])\n",
    "    for d in days:\n",
    "        p += w[d]*max_hours_per_worker + o[d] >= demand2[d]\n",
    "    p.solve(PULP_CBC_CMD(msg=False))\n",
    "    return float(p.objective.value())\n",
    "\n",
    "scales = [0.9, 1.0, 1.1, 1.2]\n",
    "objs = [solve_with_scale(s) for s in scales]\n",
    "\n",
    "plt.figure()\n",
    "plt.plot(scales, objs, marker=\"o\")\n",
    "plt.xlabel(\"Demand scale\")\n",
    "plt.ylabel(\"Optimal cost\")\n",
    "plt.title(\"Day 4 - Cost vs demand scale\")\n",
    "plt.tight_layout()\n",
    "out = figdir / \"day4_sensitivity.png\"\n",
    "plt.savefig(out)\n",
    "print(\"Saved chart:\", out)\n",
    "print({\"scales\": scales, \"costs\": [round(x,1) for x in objs]})\n"
   ]
  },
  {
   "cell_type": "code",
   "execution_count": 6,
   "id": "74c86215",
   "metadata": {},
   "outputs": [
    {
     "name": "stdout",
     "output_type": "stream",
     "text": [
      "Optimal schedule meets demand at minimum cost with controlled overtime.\n",
      "Cost rises from 361.6 at 1.0x demand to 428.8 at 1.2x.\n",
      "Set an overtime cap per day and cross train to reduce OT spikes.\n",
      "Next - add headcount ramp limits and minimum-days-on-shift rule.\n"
     ]
    }
   ],
   "source": [
    "# Cell 4 - So What(business readout) + Save\n",
    "\n",
    "lines = [\n",
    "    \"Optimal schedule meets demand at minimum cost with controlled overtime.\",\n",
    "    f\"Cost rises from {objs[1]:.1f} at 1.0x demand to {objs[-1]:.1f} at 1.2x.\",\n",
    "    \"Set an overtime cap per day and cross train to reduce OT spikes.\",\n",
    "    \"Next - add headcount ramp limits and minimum-days-on-shift rule.\"\n",
    "]\n",
    "Path(\"SO_WHAT_DAY4.txt\").write_text(\"So what (Day 4):\\n- \" + \"\\n- \".join(lines))\n",
    "print(\"\\n\".join(lines))\n"
   ]
  },
  {
   "cell_type": "code",
   "execution_count": 7,
   "id": "7ec13def",
   "metadata": {},
   "outputs": [
    {
     "name": "stdout",
     "output_type": "stream",
     "text": [
      "{'rows_in_solution': 7, 'min_total_capacity_vs_demand': 0.0, 'chart_written': True, 'missing': []}\n"
     ]
    }
   ],
   "source": [
    "# Cell 5 - verification\n",
    "\n",
    "from pathlib import Path, PurePosixPath\n",
    "missing = []\n",
    "if not (figdir / \"day4_sensitivity.png\").exists():\n",
    "    missing.append(\"optimizer/figures/day4_sensitivity.png\")\n",
    "report = {\n",
    "    \"rows_in_solution\": len(sol),\n",
    "    \"min_total_capacity_vs_demand\": float((sol[\"total_capacity\"] - sol[\"demand_hours\"]).min()),\n",
    "    \"chart_written\": len(missing) == 0,\n",
    "    \"missing\": missing\n",
    "}\n",
    "print(report)\n"
   ]
  }
 ],
 "metadata": {
  "kernelspec": {
   "display_name": "Python 3",
   "language": "python",
   "name": "python3"
  },
  "language_info": {
   "codemirror_mode": {
    "name": "ipython",
    "version": 3
   },
   "file_extension": ".py",
   "mimetype": "text/x-python",
   "name": "python",
   "nbconvert_exporter": "python",
   "pygments_lexer": "ipython3",
   "version": "3.12.1"
  }
 },
 "nbformat": 4,
 "nbformat_minor": 5
}
